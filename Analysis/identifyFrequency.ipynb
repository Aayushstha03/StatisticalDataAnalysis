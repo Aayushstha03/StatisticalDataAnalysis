{
 "cells": [
  {
   "cell_type": "code",
   "execution_count": 2,
   "id": "bdba5c84",
   "metadata": {},
   "outputs": [],
   "source": [
    "import pandas as pd\n",
    "df = pd.read_csv('../checked-data.csv')"
   ]
  },
  {
   "cell_type": "code",
   "execution_count": null,
   "id": "61493778",
   "metadata": {},
   "outputs": [
    {
     "name": "stdout",
     "output_type": "stream",
     "text": [
      "<class 'pandas.core.frame.DataFrame'>\n",
      "                                  q1    q2  q3  q4    q5\n",
      "prefix1       prefix2  set                              \n",
      "er            posttest 1   False   1   NaN  13  12   4.0\n",
      "                           True   22  23.0  10  11  19.0\n",
      "                       2   False   3  22.0   3  13  11.0\n",
      "                           True   20   1.0  20  10  12.0\n",
      "                       3   False   2  16.0   8   2   4.0\n",
      "                           True   19   5.0  13  19  17.0\n",
      "                       4   False  16   5.0  11  11  20.0\n",
      "                           True    4  15.0   9   9   NaN\n",
      "                       5   False   4   4.0   6  18   9.0\n",
      "                           True   16  16.0  14   2  11.0\n",
      "              pretest  1   False  10  21.0   5   9  15.0\n",
      "                           True   13   2.0  18  14   8.0\n",
      "                       2   False  21  10.0  12  15  20.0\n",
      "                           True    2  13.0  11   8   3.0\n",
      "                       3   False  11  16.0   8  17  18.0\n",
      "                           True    9   4.0  12   3   2.0\n",
      "                       4   False   7   1.0   8   6  15.0\n",
      "                           True   14  20.0  13  15   6.0\n",
      "                       5   False  17   6.0  12  11   6.0\n",
      "                           True    2  13.0   7   8  13.0\n",
      "normalization posttest 1   False  14  12.0   6  12  11.0\n",
      "                           True   11  13.0  19  13  14.0\n",
      "                       2   True   18  16.0  13  13  19.0\n",
      "                           False   2   4.0   7   7   1.0\n",
      "                       3   True   16  14.0  12  17  11.0\n",
      "                           False   4   6.0   8   3   9.0\n",
      "                       4   False  21  11.0  18  19  19.0\n",
      "                           True   15  25.0  18  17  17.0\n",
      "                       5   False   2   1.0   3   3   4.0\n",
      "                           True    2   3.0   1   1   NaN\n",
      "              pretest  1   False   1   9.0  19  13  18.0\n",
      "                           True   19  11.0   1   7   2.0\n",
      "                       2   False   8   4.0  12  12  17.0\n",
      "                           True   11  15.0   7   7   2.0\n",
      "                       3   False   7   4.0  14  14  14.0\n",
      "                           True   15  18.0   8   8   8.0\n",
      "                       4   False   7  11.0  21  18  17.0\n",
      "                           True   17  13.0   3   6   7.0\n",
      "                       5   False  14  15.0  18  18  14.0\n",
      "                           True    7   6.0   3   3   7.0\n"
     ]
    }
   ],
   "source": [
    "# Split the 'image' column and extract the first two words\n",
    "df[['prefix1', 'prefix2']] = df['image'].str.split('_', n=2, expand=True).iloc[:, :2]\n",
    "\n",
    "# Group by the new prefixes and calculate the counts\n",
    "split_counts = df.groupby(['prefix1', 'prefix2','set'])[['q1', 'q2', 'q3', 'q4', 'q5']].apply(lambda group: group.apply(pd.Series.value_counts))\n",
    "print(split_counts)\n",
    "\n"
   ]
  },
  {
   "cell_type": "code",
   "execution_count": 12,
   "id": "fdecfb93",
   "metadata": {},
   "outputs": [
    {
     "name": "stdout",
     "output_type": "stream",
     "text": [
      "                             q1   q2   q3   q4   q5\n",
      "prefix1       prefix2  set                         \n",
      "er            posttest 1    4.0  5.0  1.0  2.0  3.0\n",
      "                       2    4.0  1.0  4.0  2.0  3.0\n",
      "                       3    4.0  1.0  2.0  4.0  3.0\n",
      "                       4    2.0  5.0  3.0  3.0  1.0\n",
      "                       5    4.0  4.0  3.0  1.0  2.0\n",
      "              pretest  1    3.0  1.0  5.0  4.0  2.0\n",
      "                       2    1.0  5.0  4.0  3.0  2.0\n",
      "                       3    4.0  3.0  5.0  2.0  1.0\n",
      "                       4    3.0  5.0  2.0  4.0  1.0\n",
      "                       5    1.0  4.0  2.0  3.0  4.0\n",
      "normalization posttest 1    1.0  2.0  5.0  2.0  4.0\n",
      "                       2    4.0  3.0  1.0  1.0  5.0\n",
      "                       3    4.0  3.0  2.0  5.0  1.0\n",
      "                       4    1.0  5.0  4.0  2.0  2.0\n",
      "                       5    4.0  5.0  2.0  2.0  1.0\n",
      "              pretest  1    5.0  4.0  1.0  3.0  2.0\n",
      "                       2    4.0  5.0  2.0  2.0  1.0\n",
      "                       3    4.0  5.0  1.0  1.0  1.0\n",
      "                       4    5.0  4.0  1.0  2.0  3.0\n",
      "                       5    4.0  3.0  1.0  1.0  4.0\n"
     ]
    }
   ],
   "source": [
    "# Sum the false counts for each question grouped by prefix1 and prefix2\n",
    "false_ranking = split_counts.xs(False, level=3).groupby(['prefix1', 'prefix2','set']).sum()\n",
    "\n",
    "# Rank the questions within each category based on the false counts\n",
    "ranked_questions_by_category = false_ranking.rank(axis=1, method='min', ascending=False)\n",
    "\n",
    "print(ranked_questions_by_category)"
   ]
  },
  {
   "cell_type": "code",
   "execution_count": null,
   "id": "2fe01080",
   "metadata": {},
   "outputs": [],
   "source": []
  }
 ],
 "metadata": {
  "kernelspec": {
   "display_name": "Python 3",
   "language": "python",
   "name": "python3"
  },
  "language_info": {
   "codemirror_mode": {
    "name": "ipython",
    "version": 3
   },
   "file_extension": ".py",
   "mimetype": "text/x-python",
   "name": "python",
   "nbconvert_exporter": "python",
   "pygments_lexer": "ipython3",
   "version": "3.12.5"
  }
 },
 "nbformat": 4,
 "nbformat_minor": 5
}
