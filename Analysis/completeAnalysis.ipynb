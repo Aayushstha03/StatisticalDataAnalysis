{
 "cells": [
  {
   "cell_type": "code",
   "execution_count": 2,
   "id": "3f0b7e4b",
   "metadata": {},
   "outputs": [],
   "source": [
    "# Import necessary libraries\n",
    "import pandas as pd\n",
    "import numpy as np\n",
    "\n",
    "# Load dataset\n",
    "df = pd.read_csv('../checked-data.csv')"
   ]
  },
  {
   "cell_type": "code",
   "execution_count": 3,
   "id": "5b80478d",
   "metadata": {},
   "outputs": [
    {
     "name": "stdout",
     "output_type": "stream",
     "text": [
      "                      image  total_score\n",
      "0     er_posttest_lab_1.png            4\n",
      "1  er_posttest_lab_1004.png            2\n",
      "2  er_posttest_lab_1015.png            4\n",
      "3  er_posttest_lab_1017.png            3\n",
      "4  er_posttest_lab_1036.png            5\n"
     ]
    }
   ],
   "source": [
    "\n",
    "# Compute the total number of True responses per row and add it as a new column\n",
    "df['total_score'] = df[['q1', 'q2', 'q3', 'q4', 'q5']].sum(axis=1)\n",
    "\n",
    "# Display a sample to verify\n",
    "print(df[['image', 'total_score']].head())"
   ]
  },
  {
   "cell_type": "code",
   "execution_count": 17,
   "id": "c65a59cd",
   "metadata": {},
   "outputs": [],
   "source": [
    "# Step 1: Split the dataset into \"lab\" and \"non-lab\" groups\n",
    "lab_data = df[df['image'].str.contains('lab', case=False, na=False)].copy()\n",
    "# print(lab_data)\n",
    "classroom_data = df[~df['image'].str.contains('lab', case=False, na=False)].copy()\n",
    "# print(classroom_data)"
   ]
  },
  {
   "cell_type": "code",
   "execution_count": null,
   "id": "aa355697",
   "metadata": {},
   "outputs": [],
   "source": [
    "# function to calculate the deltas:)\n",
    "def calculate_delta(group):\n",
    "    pretest_data = group[group['image'].str.contains('pretest', case=False, na=False)]\n",
    "    posttest_data = group[group['image'].str.contains('posttest', case=False, na=False)]\n",
    "    \n",
    "    deltas = []\n",
    "\n",
    "    for _, pretest_row in pretest_data.iterrows():\n",
    "        # Extract parts of the filename\n",
    "        filename_parts = pretest_row['image'].replace('.png', '').split('_')\n",
    "        if len(filename_parts) != 4:\n",
    "            print(f\"Skipping malformed filename: {pretest_row['image']}\")\n",
    "            continue\n",
    "        \n",
    "        answer_type, _, group_type, roll = filename_parts\n",
    "        match_key = f\"{answer_type}_posttest_{group_type}_{roll}.png\"\n",
    "\n",
    "        # Look for an exact filename match in posttest\n",
    "        matched_row = posttest_data[posttest_data['image'] == match_key]\n",
    "\n",
    "        if not matched_row.empty:\n",
    "            pre_score = pretest_row['total_score']\n",
    "            post_score = matched_row.iloc[0]['total_score']\n",
    "            delta = post_score - pre_score\n",
    "            deltas.append((pretest_row['image'], delta))\n",
    "        else:\n",
    "            print(f\"No match found for: {pretest_row['image']} → {match_key}\")\n",
    "    \n",
    "    return deltas\n"
   ]
  },
  {
   "cell_type": "code",
   "execution_count": 23,
   "id": "dfee348b",
   "metadata": {},
   "outputs": [
    {
     "name": "stdout",
     "output_type": "stream",
     "text": [
      "No match found for: er_pretest_lab_833.png → er_posttest_lab_833.png\n"
     ]
    }
   ],
   "source": [
    "# Step 2: Calculate deltas for lab group\n",
    "lab_deltas = calculate_delta(lab_data)\n",
    "\n",
    "# Print the results\n",
    "# print(\"Lab Deltas (Pretest to Posttest):\")\n",
    "# for image, delta in lab_deltas:\n",
    "#     print(f\"{image}: {delta}\")"
   ]
  },
  {
   "cell_type": "code",
   "execution_count": 24,
   "id": "582bad7c",
   "metadata": {},
   "outputs": [
    {
     "name": "stdout",
     "output_type": "stream",
     "text": [
      "No match found for: normalization_pretest_watrin_831.png → normalization_posttest_watrin_831.png\n"
     ]
    }
   ],
   "source": [
    "\n",
    "# Step 3: Calculate deltas for non-lab group\n",
    "classroom_deltas = calculate_delta(classroom_data)\n",
    "\n",
    "# print(\"\\nClassRoom Deltas (Pretest to Posttest):\")\n",
    "# for image, delta in classroom_deltas:\n",
    "#     print(f\"{image}: {delta}\")"
   ]
  },
  {
   "cell_type": "code",
   "execution_count": null,
   "id": "7bf80a53",
   "metadata": {},
   "outputs": [],
   "source": [
    "# function to calculate the summary statistics\n",
    "def summarize_scores(group, group_name):\n",
    "    pretest_scores = group[group['image'].str.contains('pretest', case=False)]['total_score']\n",
    "    posttest_scores = group[group['image'].str.contains('posttest', case=False)]['total_score']\n",
    "\n",
    "    print(f\"\\n===== {group_name.upper()} GROUP SUMMARY =====\")\n",
    "\n",
    "    print(\"\\n--- Pretest Summary ---\")\n",
    "    print(f\"Mean: {pretest_scores.mean():.2f}\")\n",
    "    print(f\"Median: {pretest_scores.median():.2f}\")\n",
    "    print(f\"Standard Deviation: {pretest_scores.std():.2f}\")\n",
    "    print(f\"Min: {pretest_scores.min()}\")\n",
    "    print(f\"Max: {pretest_scores.max()}\")\n",
    "\n",
    "    print(\"\\n--- Posttest Summary ---\")\n",
    "    print(f\"Mean: {posttest_scores.mean():.2f}\")\n",
    "    print(f\"Median: {posttest_scores.median():.2f}\")\n",
    "    print(f\"Standard Deviation: {posttest_scores.std():.2f}\")\n",
    "    print(f\"Min: {posttest_scores.min()}\")\n",
    "    print(f\"Max: {posttest_scores.max()}\")\n",
    "\n",
    "# functions to summarize the statistics from delta:)\n",
    "def summarize_deltas(deltas, group_name):\n",
    "    delta_values = [d[1] for d in deltas]\n",
    "\n",
    "    print(f\"\\n===== Delta Summary for {group_name.upper()} Group =====\")\n",
    "    print(f\"Mean Delta: {np.mean(delta_values):.2f}\")\n",
    "    print(f\"Median Delta: {np.median(delta_values):.2f}\")\n",
    "    print(f\"Standard Deviation: {np.std(delta_values):.2f}\")\n",
    "    print(f\"Min Delta: {np.min(delta_values)}\")\n",
    "    print(f\"Max Delta: {np.max(delta_values)}\")\n",
    "\n",
    "    print(f\"\\nDelta Counts:\")\n",
    "    print(f\"  Positive change: {sum(1 for d in delta_values if d > 0)}\")\n",
    "    print(f\"  Negative change: {sum(1 for d in delta_values if d < 0)}\")\n",
    "    print(f\"  No change: {sum(1 for d in delta_values if d == 0)}\")\n"
   ]
  },
  {
   "cell_type": "code",
   "execution_count": 32,
   "id": "73bf402c",
   "metadata": {},
   "outputs": [
    {
     "name": "stdout",
     "output_type": "stream",
     "text": [
      "\n",
      "===== LAB GROUP SUMMARY =====\n",
      "\n",
      "--- Pretest Summary ---\n",
      "Mean: 2.07\n",
      "Median: 2.00\n",
      "Standard Deviation: 1.05\n",
      "Min: 0\n",
      "Max: 4\n",
      "\n",
      "--- Posttest Summary ---\n",
      "Mean: 2.95\n",
      "Median: 3.00\n",
      "Standard Deviation: 1.32\n",
      "Min: 0\n",
      "Max: 5\n",
      "\n",
      "===== WATRIN GROUP SUMMARY =====\n",
      "\n",
      "--- Pretest Summary ---\n",
      "Mean: 2.11\n",
      "Median: 2.00\n",
      "Standard Deviation: 1.14\n",
      "Min: 0\n",
      "Max: 5\n",
      "\n",
      "--- Posttest Summary ---\n",
      "Mean: 3.04\n",
      "Median: 3.00\n",
      "Standard Deviation: 1.19\n",
      "Min: 0\n",
      "Max: 5\n"
     ]
    }
   ],
   "source": [
    "summarize_scores(lab_data, \"Lab\")\n",
    "summarize_scores(classroom_data, \"Watrin\")"
   ]
  },
  {
   "cell_type": "code",
   "execution_count": 34,
   "id": "284b5fe5",
   "metadata": {},
   "outputs": [
    {
     "name": "stdout",
     "output_type": "stream",
     "text": [
      "\n",
      "--- Delta Summary for LAB Group ---\n",
      "Mean Delta: 0.89\n",
      "Median Delta: 1.00\n",
      "Standard Deviation: 1.70\n",
      "Min Delta: -3\n",
      "Max Delta: 5\n",
      "\n",
      "Delta Counts:\n",
      "  Positive change: 64\n",
      "  Negative change: 23\n",
      "  No change: 19\n",
      "\n",
      "--- Delta Summary for WATRIN Group ---\n",
      "Mean Delta: 0.92\n",
      "Median Delta: 1.00\n",
      "Standard Deviation: 1.55\n",
      "Min Delta: -2\n",
      "Max Delta: 5\n",
      "\n",
      "Delta Counts:\n",
      "  Positive change: 62\n",
      "  Negative change: 19\n",
      "  No change: 23\n"
     ]
    }
   ],
   "source": [
    "summarize_deltas(lab_deltas, \"Lab\")\n",
    "summarize_deltas(classroom_deltas, \"Watrin\")"
   ]
  },
  {
   "cell_type": "code",
   "execution_count": null,
   "id": "7a5eaab8",
   "metadata": {},
   "outputs": [],
   "source": []
  }
 ],
 "metadata": {
  "kernelspec": {
   "display_name": "Python 3",
   "language": "python",
   "name": "python3"
  },
  "language_info": {
   "codemirror_mode": {
    "name": "ipython",
    "version": 3
   },
   "file_extension": ".py",
   "mimetype": "text/x-python",
   "name": "python",
   "nbconvert_exporter": "python",
   "pygments_lexer": "ipython3",
   "version": "3.12.5"
  }
 },
 "nbformat": 4,
 "nbformat_minor": 5
}
